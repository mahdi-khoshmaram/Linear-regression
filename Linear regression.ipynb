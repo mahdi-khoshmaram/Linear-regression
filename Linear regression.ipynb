{
 "cells": [
  {
   "cell_type": "markdown",
   "id": "67f0e853",
   "metadata": {},
   "source": [
    "<p>\n",
    "    <font size=\"6\"\n",
    "          face= \"Trebuchet MS\";\n",
    "          color=\"orange\">\n",
    "            <b>This notebook is created by: <a href=\"https://github.com/mahdi-khoshmaram\">Mahdi khoshmaram</a> </b>\n",
    "        </font>\n",
    "        </p>"
   ]
  },
  {
   "cell_type": "markdown",
   "id": "6904d8b7",
   "metadata": {},
   "source": [
    "<h2> 1. Libraries to import </h2>"
   ]
  },
  {
   "cell_type": "code",
   "execution_count": 1,
   "id": "91897114",
   "metadata": {},
   "outputs": [],
   "source": [
    "# first import all required libraries\n",
    "\n",
    "import numpy as np\n",
    "import matplotlib.pyplot as plt\n",
    "from sklearn.linear_model import SGDRegressor\n",
    "from sklearn.preprocessing import StandardScaler"
   ]
  },
  {
   "cell_type": "code",
   "execution_count": 2,
   "id": "f3b5b940",
   "metadata": {},
   "outputs": [],
   "source": [
    "plt.style.use('seaborn')"
   ]
  },
  {
   "cell_type": "markdown",
   "id": "bf819c52",
   "metadata": {},
   "source": [
    "<h2> 2. Creating datasets</h2>\n",
    "<p> Two datasets created, <i>x1</i> with <b> one feature</b> and <i>x3</i> with <b>three features</b>. <p>"
   ]
  },
  {
   "cell_type": "code",
   "execution_count": 3,
   "id": "8d66802c",
   "metadata": {},
   "outputs": [],
   "source": [
    "# Our datasets\n",
    "\n",
    "# Dataset with 3 features\n",
    "x3 = np.array([[1,5,9],[7,4,3],[11,6,5],[2,1,8]])\n",
    "y3 = np.array([28,15,21,22])\n",
    "\n",
    "#dataset with 1 feature\n",
    "x1 = np.array([10,7,4,3,15])\n",
    "y1 = np.array([5,3.5,2,1.5,7.5])"
   ]
  },
  {
   "cell_type": "markdown",
   "id": "d99745d8",
   "metadata": {},
   "source": [
    "<h2> 3. Cost function  </h2>\n",
    "<h4>3-1. Unvectorized cost function</h4>"
   ]
  },
  {
   "cell_type": "code",
   "execution_count": 4,
   "id": "61c6e1fb",
   "metadata": {},
   "outputs": [],
   "source": [
    "# Unvectorized implementation of cost function with n-feature dataset for linear regression\n",
    "\n",
    "def cost_unvec(x,y,w,b):\n",
    "    m = x.shape[0]\n",
    "    cost = 0 \n",
    "    for i in range(m):\n",
    "        cost = cost + ( (np.dot(x[i],w) + b) - y[i] ) ** 2\n",
    "    cost = cost / (2 * m)\n",
    "    return cost"
   ]
  },
  {
   "cell_type": "markdown",
   "id": "04f680c0",
   "metadata": {},
   "source": [
    "<h4>3-1-1. Testing unvectorized cost function</h4>\n",
    "<p>Creating dataset, <i>y1</i> produced by using parameters <b>w1=0.5</b> and <b>b1=0</b> and <i>y2</i> produced by using parameters <b>w3=[0,1,2]</b> and <b>b3=5</b></p>\n",
    "<p>So the cost_unvec fonction should returns <b>0</b> for those values.</p>"
   ]
  },
  {
   "cell_type": "code",
   "execution_count": 5,
   "id": "c6eac157",
   "metadata": {},
   "outputs": [
    {
     "name": "stdout",
     "output_type": "stream",
     "text": [
      "w3 = [0 1 2] , b3 = 5\n",
      "cost = 0.0\n",
      "\n",
      "\n",
      "w1 = 0.5 , b1 = 0\n",
      "cost = 0.0\n"
     ]
    }
   ],
   "source": [
    "# First Dataset \n",
    "w3 = np.array([0,1,2])\n",
    "b3 = 5\n",
    "print(f'w3 = {w3} , b3 = {b3}\\ncost = {cost_unvec(x3,y3,w3,b3)}')\n",
    "\n",
    "# Second dataset\n",
    "w1 = 0.5\n",
    "b1 = 0\n",
    "print(f'\\n\\nw1 = {w1} , b1 = {b1}\\ncost = {cost_unvec(x1,y1,w1,b1)}')"
   ]
  },
  {
   "cell_type": "markdown",
   "id": "322db905",
   "metadata": {},
   "source": [
    "<h4>3-2. vectorized cost function</h4>"
   ]
  },
  {
   "cell_type": "code",
   "execution_count": 6,
   "id": "53a18384",
   "metadata": {},
   "outputs": [],
   "source": [
    "# Vectorized implementation of cost function with n-feature dataset for linear regression\n",
    "\n",
    "def cost_vec(x,y,w,b):\n",
    "    m = x.shape[0]\n",
    "    error = np.sum(( (np.dot(x,w) + b) - y) ** 2)\n",
    "    cost = error / (2 * m)\n",
    "    return cost"
   ]
  },
  {
   "cell_type": "markdown",
   "id": "80ad192f",
   "metadata": {},
   "source": [
    "<h4>3-2-1. Testing vectorized cost function</h4>\n",
    "<p>Creating dataset, <i>y1</i> produced by using parameters <b>w1=0.5</b> and <b>b1=0</b> and <i>y2</i> produced by using parameters <b>w3=[0,1,2]</b> and <b>b3=5</b></p>\n",
    "<p>So the cost_unvec fonction should returns <b>0</b> for those values.</p>"
   ]
  },
  {
   "cell_type": "code",
   "execution_count": 7,
   "id": "af1b2cba",
   "metadata": {},
   "outputs": [
    {
     "name": "stdout",
     "output_type": "stream",
     "text": [
      "w3 = [0 1 2] , b3 = 5\n",
      "cost = 0.0\n",
      "\n",
      "\n",
      "w1 = 0.5 , b1 = 0\n",
      "cost = 0.0\n"
     ]
    }
   ],
   "source": [
    "# First Dataset \n",
    "w3 = np.array([0,1,2])\n",
    "b3 = 5\n",
    "print(f'w3 = {w3} , b3 = {b3}\\ncost = {cost_vec(x3,y3,w3,b3)}')\n",
    "\n",
    "# Second dataset\n",
    "w1 = 0.5\n",
    "b1 = 0\n",
    "print(f'\\n\\nw1 = {w1} , b1 = {b1}\\ncost = {cost_vec(x1,y1,w1,b1)}')"
   ]
  },
  {
   "cell_type": "markdown",
   "id": "405490f0",
   "metadata": {},
   "source": [
    "<h2> 4.The derivative of the Cost function  </h2>\n",
    "<h4>4-1. Calculating derivatives of the cost function <b>without</b> vectorization   </h4>"
   ]
  },
  {
   "cell_type": "code",
   "execution_count": 8,
   "id": "f4332784",
   "metadata": {},
   "outputs": [],
   "source": [
    "# Calculates the derivatives of cost function with respect to w and b\n",
    "def dj_unvec(x,y,w,b):\n",
    "    try:\n",
    "        m,n = x.shape\n",
    "    except:\n",
    "        m = x.shape[0]\n",
    "        x = x.reshape(m,1)\n",
    "        n = 1\n",
    "    \n",
    "    dj_dw = np.zeros((n))\n",
    "    dj_db = 0\n",
    "    \n",
    "# This part calculates the dj-dw\n",
    "    for j in range(n):\n",
    "        for i in range(m):\n",
    "            dj_dw[j] = dj_dw[j] + ( ( (np.dot(x[i],w) + b) - y[i] ) * x[i,j])\n",
    "    dj_dw = dj_dw / m\n",
    "\n",
    "# This part calculates the dj-db\n",
    "    for k in range(m):\n",
    "        dj_db = dj_db + ( (np.dot(x[k],w) + b) - y[k] )\n",
    "    dj_db = dj_db / m\n",
    "        \n",
    "    return dj_dw, dj_db"
   ]
  },
  {
   "cell_type": "markdown",
   "id": "77bb14a6",
   "metadata": {},
   "source": [
    "<h4>4-2. Calculating derivatives of the cost function <b>with</b> vectorization   </h4>"
   ]
  },
  {
   "cell_type": "code",
   "execution_count": 9,
   "id": "01c47592",
   "metadata": {},
   "outputs": [],
   "source": [
    "def dj_vec(x,y,w,b):\n",
    "    try:\n",
    "        m,n = x.shape\n",
    "    except:\n",
    "        m = x.shape[0]\n",
    "    error = ( ( np.dot(x,w) + b) - y ) / m\n",
    "    dj_dw = np.dot(error, x)\n",
    "    dj_db = np.sum(error)\n",
    "    return dj_dw , dj_db"
   ]
  },
  {
   "cell_type": "markdown",
   "id": "688d998e",
   "metadata": {},
   "source": [
    "<h2> 5.Gradien descent  </h2>\n",
    "<p>Function <code>gradient_descent</code> below uses <b>automatic convergence</b> and it doesn't require any iteration value as input.</p>"
   ]
  },
  {
   "cell_type": "code",
   "execution_count": 10,
   "id": "cf5752cd",
   "metadata": {},
   "outputs": [],
   "source": [
    "def gradient_descent(x,y,w_init,b_init,alpha,epsilon,dj_func):\n",
    "    try:\n",
    "        m,n = x.shape\n",
    "    except:\n",
    "        m = x.shape[0]\n",
    "        n = 1\n",
    "        \n",
    "    jlist = []\n",
    "    iters = []\n",
    "    \n",
    "    w = w_init\n",
    "    b = b_init\n",
    "    \n",
    "    i = 0\n",
    "    \n",
    "    while True:\n",
    "        jlist.append(cost_vec(x,y,w,b))\n",
    "        iters.append(i)\n",
    "        \n",
    "        i = i + 1\n",
    "        \n",
    "        #Prevoius_cost and present_cost are used for AUTOMATIC CONVERGENCE\n",
    "        previous_cost = cost_vec(x,y,w,b)\n",
    "        \n",
    "        dj_dw,dj_db = dj_func(x,y,w,b)\n",
    "        w = w - (alpha * dj_dw)\n",
    "        b = b - (alpha * dj_db)\n",
    "        \n",
    "        present_cost = cost_vec(x,y,w,b)\n",
    "        \n",
    "        if abs(previous_cost - present_cost) < epsilon:\n",
    "            break\n",
    "    print(f'Iterations: {i}')\n",
    "    return w,b,jlist,iters\n",
    "            \n",
    "            \n",
    "        "
   ]
  },
  {
   "cell_type": "markdown",
   "id": "c6361042",
   "metadata": {},
   "source": [
    "<h2> 6. z-score normalization  </h2>\n",
    "<p>Standard deviation and mean calculations are implemented rather than using numpy built-in functions like <code>mean()</code> and <code>std()</code>.</p>"
   ]
  },
  {
   "cell_type": "code",
   "execution_count": 11,
   "id": "5a37a558",
   "metadata": {},
   "outputs": [],
   "source": [
    "def normalize(x):\n",
    "    m = x.shape[0]\n",
    "    \n",
    "    try:\n",
    "        n = x.shape[1]\n",
    "    except:\n",
    "        n = 1\n",
    "    \n",
    "    # Calculating mean\n",
    "    sum = np.sum(x,0)  # Here 0 means that we want sum over each column\n",
    "    mean = sum / m\n",
    "    \n",
    "    # Calulating standard deviation\n",
    "    sigma = x - mean\n",
    "    sigma = sigma ** 2\n",
    "    sigma = np.sum(sigma,0)\n",
    "    sigma = sigma /m\n",
    "    sigma = np.sqrt(sigma)\n",
    "    \n",
    "    # Normalizing data\n",
    "    x_norm = x - mean\n",
    "    x_norm = x_norm / sigma\n",
    "    \n",
    "    return x_norm"
   ]
  },
  {
   "cell_type": "markdown",
   "id": "ee447263",
   "metadata": {},
   "source": [
    "<h2>7. Visualization</h2>"
   ]
  },
  {
   "cell_type": "markdown",
   "id": "bc5ca5b2",
   "metadata": {},
   "source": [
    "<p><b> <code>Visualizing X1/Y1</code></b></p>"
   ]
  },
  {
   "cell_type": "code",
   "execution_count": 12,
   "id": "434199d1",
   "metadata": {},
   "outputs": [],
   "source": [
    "x1_norm = normalize(x1)"
   ]
  },
  {
   "cell_type": "code",
   "execution_count": 13,
   "id": "2bc31d1d",
   "metadata": {},
   "outputs": [
    {
     "data": {
      "text/plain": [
       "<matplotlib.legend.Legend at 0x28bcb347280>"
      ]
     },
     "execution_count": 13,
     "metadata": {},
     "output_type": "execute_result"
    },
    {
     "data": {
      "image/png": "[encoded data removed]",
      "text/plain": [
       "<Figure size 720x432 with 1 Axes>"
      ]
     },
     "metadata": {
      "needs_background": "light"
     },
     "output_type": "display_data"
    }
   ],
   "source": [
    "fig1, ax1 = plt.subplots(1,1,figsize=(10,6))\n",
    "ax1.scatter(x1,y1,color = '#020100', linewidth = 5,label = 'Unormalized data')\n",
    "ax1.scatter(x1_norm,y1,linewidth = 5, color = '#ED1C24',label = 'Normalized data')\n",
    "ax1.set_title('X1/Y1')\n",
    "ax1.set_xlabel('x1',fontsize= 20)\n",
    "ax1.set_ylabel('y1',fontsize= 20)\n",
    "ax1.legend(loc='upper center')\n"
   ]
  },
  {
   "cell_type": "markdown",
   "id": "a44a4c8b",
   "metadata": {},
   "source": [
    "<p><b>7-1-1. Finding fitted Parameters</b>(<code>w</code>,<code>b</code>)</p>"
   ]
  },
  {
   "cell_type": "markdown",
   "id": "5bff20c4",
   "metadata": {},
   "source": [
    "<p>\n",
    "    <font size=\"3\"\n",
    "          color=\"red\">\n",
    "            <b>Without normalization</b>\n",
    "        </font>\n",
    "        </p>"
   ]
  },
  {
   "cell_type": "code",
   "execution_count": 14,
   "id": "bad62adc",
   "metadata": {},
   "outputs": [
    {
     "name": "stdout",
     "output_type": "stream",
     "text": [
      "Iterations: 36301\n",
      "w1 = 0.4999990733110404\n",
      "b1 = 9.45278115434538e-06\n"
     ]
    }
   ],
   "source": [
    "w1_initial = 0\n",
    "b1_initial = 0\n",
    "alpha = 1e-3\n",
    "epsilon = 5e-15\n",
    "\n",
    "w1,b1,j_history1,iters1 = gradient_descent(x1,y1,w1_initial,b1_initial,alpha,epsilon,dj_vec)\n",
    "print(f'w1 = {w1}\\nb1 = {b1}')"
   ]
  },
  {
   "cell_type": "markdown",
   "id": "3aba15cd",
   "metadata": {},
   "source": [
    "<p>\n",
    "    <font size=\"3\"\n",
    "          color=\"green\">\n",
    "            <b>With normalization</b>\n",
    "        </font>\n",
    "        </p>"
   ]
  },
  {
   "cell_type": "code",
   "execution_count": 15,
   "id": "ea39eae0",
   "metadata": {},
   "outputs": [
    {
     "name": "stdout",
     "output_type": "stream",
     "text": [
      "Iterations: 14501\n",
      "w1_norm = 0.4999990733110404\n",
      "b1_norm = 9.45278115434538e-06\n"
     ]
    }
   ],
   "source": [
    "w1_norm_initial = 0\n",
    "b1_norm_initial = 0\n",
    "alpha = 1e-3\n",
    "epsilon = 5e-15\n",
    "\n",
    "w1_norm,b1_norm,j_history1_norm,iters1_norm = gradient_descent(x1_norm,y1,w1_norm_initial,b1_norm_initial,alpha,epsilon,dj_vec)\n",
    "print(f'w1_norm = {w1}\\nb1_norm = {b1}')"
   ]
  },
  {
   "cell_type": "markdown",
   "id": "33bb8720",
   "metadata": {},
   "source": [
    "<p><b>7-1-2. Ploting J(w,b)/iteration</b></p>\n",
    "<p>By plotting J(w,b)/iteration we can make sure that our gradiet descent function works correctly.</p>\n",
    "<p>[Should: <b>1</b>-decrease after every iteration. <b>2</b>-Converge to a constant number]</p>"
   ]
  },
  {
   "cell_type": "markdown",
   "id": "6c78fd0b",
   "metadata": {},
   "source": [
    "<p>\n",
    "    <font size=\"3\"\n",
    "          color=\"red\">\n",
    "            <b>Without normalization</b>\n",
    "        </font>\n",
    "        </p>"
   ]
  },
  {
   "cell_type": "code",
   "execution_count": 31,
   "id": "3b5e7382",
   "metadata": {},
   "outputs": [
    {
     "data": {
      "image/png": "[encoded data removed]",
      "text/plain": [
       "<Figure size 432x288 with 1 Axes>"
      ]
     },
     "metadata": {
      "needs_background": "light"
     },
     "output_type": "display_data"
    }
   ],
   "source": [
    "plt.plot(iters1,j_history1,linewidth = 4, color = 'green')\n",
    "plt.xlabel('Iterations',fontsize= 18)\n",
    "plt.ylabel('J(w,b)',fontsize= 18)\n",
    "plt.show()"
   ]
  },
  {
   "cell_type": "markdown",
   "id": "048435f3",
   "metadata": {},
   "source": [
    "<p>\n",
    "    <font size=\"3\"\n",
    "          color=\"green\">\n",
    "            <b>With normalization</b>\n",
    "        </font>\n",
    "        </p>"
   ]
  },
  {
   "cell_type": "code",
   "execution_count": 32,
   "id": "88c53e76",
   "metadata": {},
   "outputs": [
    {
     "data": {
      "image/png": "[encoded data removed]",
      "text/plain": [
       "<Figure size 432x288 with 1 Axes>"
      ]
     },
     "metadata": {
      "needs_background": "light"
     },
     "output_type": "display_data"
    }
   ],
   "source": [
    "plt.plot(iters1_norm,j_history1_norm,linewidth = 4, color = 'green')\n",
    "plt.xlabel('Iterations',fontsize= 18)\n",
    "plt.ylabel('J(w,b)',fontsize= 18)\n",
    "plt.show()"
   ]
  },
  {
   "cell_type": "markdown",
   "id": "2a98a3de",
   "metadata": {},
   "source": [
    "<p><b>7-1-3. Ploting J(w,b)/w</b></p>"
   ]
  },
  {
   "cell_type": "markdown",
   "id": "346fc33f",
   "metadata": {},
   "source": [
    "<code>X1/Y1</code>"
   ]
  },
  {
   "cell_type": "code",
   "execution_count": 18,
   "id": "47e50c1c",
   "metadata": {},
   "outputs": [
    {
     "data": {
      "image/png": "[encoded data removed]",
      "text/plain": [
       "<Figure size 432x288 with 1 Axes>"
      ]
     },
     "metadata": {
      "needs_background": "light"
     },
     "output_type": "display_data"
    }
   ],
   "source": [
    "w_range = np.arange(-10,11,0.5)\n",
    "\n",
    "b = 0\n",
    "\n",
    "j_list1 = []\n",
    "\n",
    "for w in w_range:\n",
    "    j = cost_vec(x1,y1,w,b)\n",
    "    j_list1.append(j)\n",
    "\n",
    "j_list1 = np.asarray(j_list1)\n",
    "\n",
    "plt.xticks(np.arange(-11,12,step=2))\n",
    "\n",
    "plt.plot(w_range,j_list1,linewidth = 4, color = 'black')\n",
    "plt.xlabel('w',fontsize= 20)\n",
    "plt.ylabel('J(w,b)',fontsize= 20)\n",
    "plt.title(\"J(w,b)/w\\n(b = 0)\")\n",
    "plt.show()"
   ]
  },
  {
   "cell_type": "code",
   "execution_count": 19,
   "id": "06780daa",
   "metadata": {},
   "outputs": [
    {
     "data": {
      "image/png": "[encoded data removed]",
      "text/plain": [
       "<Figure size 432x288 with 1 Axes>"
      ]
     },
     "metadata": {
      "needs_background": "light"
     },
     "output_type": "display_data"
    }
   ],
   "source": [
    "b_range = np.arange(-10,11,0.5)\n",
    "\n",
    "w = 0.5\n",
    "\n",
    "j_list2 = []\n",
    "\n",
    "for b in b_range:\n",
    "    j = cost_vec(x1,y1,w,b)\n",
    "    j_list2.append(j)\n",
    "\n",
    "j_list2 = np.asarray(j_list2)\n",
    "\n",
    "plt.xticks(np.arange(-11,12,step=2))\n",
    "\n",
    "plt.plot(b_range,j_list2,linewidth = 4, color = 'black')\n",
    "plt.xlabel('b',fontsize= 20)\n",
    "plt.ylabel('J(w,b)',fontsize= 20)\n",
    "plt.title(\"J(w,b)/b\\n(w = 0.5)\")\n",
    "plt.show()"
   ]
  },
  {
   "cell_type": "markdown",
   "id": "0b5e9a60",
   "metadata": {},
   "source": [
    "<p><b>7-1-4. Ploting data and our linear model</b> <code>X1/Y1</code></p>"
   ]
  },
  {
   "cell_type": "markdown",
   "id": "3bea103c",
   "metadata": {},
   "source": [
    "<p>\n",
    "    <font size=\"3\"\n",
    "          color=\"red\">\n",
    "            <b>Without normalization</b>\n",
    "        </font>\n",
    "        </p>"
   ]
  },
  {
   "cell_type": "code",
   "execution_count": 33,
   "id": "1b4ff753",
   "metadata": {},
   "outputs": [
    {
     "data": {
      "image/png": "[encoded data removed]",
      "text/plain": [
       "<Figure size 576x432 with 1 Axes>"
      ]
     },
     "metadata": {
      "needs_background": "light"
     },
     "output_type": "display_data"
    }
   ],
   "source": [
    "plt.figure(figsize=(8,6))\n",
    "plt.scatter(x1,y1,color = 'red', linewidth = 5,label = 'data')\n",
    "plt.plot(x1,(np.dot(x1,w1) + b1), color ='black', linewidth= 2,label = 'Linear model')\n",
    "plt.xlabel('X1',fontsize= 18)\n",
    "plt.ylabel('Y1',fontsize= 18)\n",
    "plt.title('Linear model for X1')\n",
    "plt.legend()\n",
    "plt.show()"
   ]
  },
  {
   "cell_type": "markdown",
   "id": "9fd56970",
   "metadata": {},
   "source": [
    "<p>\n",
    "    <font size=\"3\"\n",
    "          color=\"green\">\n",
    "        <b>With normalization</b>\n",
    "        </font>\n",
    "        </p>"
   ]
  },
  {
   "cell_type": "code",
   "execution_count": 34,
   "id": "8e3e9f39",
   "metadata": {},
   "outputs": [
    {
     "data": {
      "image/png": "[encoded data removed]",
      "text/plain": [
       "<Figure size 576x432 with 1 Axes>"
      ]
     },
     "metadata": {
      "needs_background": "light"
     },
     "output_type": "display_data"
    }
   ],
   "source": [
    "plt.figure(figsize=(8,6))\n",
    "plt.scatter(x1_norm,y1,color = 'red', linewidth = 5,label = 'data')\n",
    "plt.plot(x1_norm,(np.dot(x1_norm,w1_norm) + b1_norm), color ='black', linewidth= 2,label = 'Linear model')\n",
    "plt.title('Linear model for X1')\n",
    "plt.xlabel('X1_norm',fontsize= 18)\n",
    "plt.ylabel('Y1',fontsize= 18)\n",
    "plt.legend()\n",
    "plt.show()"
   ]
  },
  {
   "cell_type": "markdown",
   "id": "bd746355",
   "metadata": {},
   "source": [
    "<p><b> <code>Visualizing X3/Y3</code></b></p>"
   ]
  },
  {
   "cell_type": "code",
   "execution_count": 38,
   "id": "1b3344d2",
   "metadata": {},
   "outputs": [
    {
     "data": {
      "image/png": "[encoded data removed]",
      "text/plain": [
       "<Figure size 576x864 with 3 Axes>"
      ]
     },
     "metadata": {
      "needs_background": "light"
     },
     "output_type": "display_data"
    }
   ],
   "source": [
    "x3_norm = normalize(x3)\n",
    "\n",
    "fig3, ax3 = plt.subplots(3,1,figsize=(8,12),sharey=True)\n",
    "\n",
    "#ax3[0]/y3\n",
    "ax3[0].scatter(x3[:,0], y3, color = '#020100', linewidth = 5, label = 'Unormalized data')\n",
    "ax3[0].scatter(x3_norm[:,0], y3,linewidth = 5, color = 'green', label = 'Normalized data')\n",
    "ax3[0].set_title('X3[0]/Y3', fontsize= 9)\n",
    "ax3[0].set_xlabel('x3[0]',fontsize= 15)\n",
    "ax3[0].set_ylabel('y3', fontsize= 15)\n",
    "ax3[0].legend(loc='upper right')\n",
    "\n",
    "#ax3[1]/y3\n",
    "ax3[1].scatter(x3[:,1], y3, color = '#020100', linewidth = 5, label = 'Unormalized data')\n",
    "ax3[1].scatter(x3_norm[:,1], y3,linewidth = 5, color = 'green', label = 'Normalized data')\n",
    "ax3[1].set_title('X3[1]/Y3',fontsize= 9)\n",
    "ax3[1].set_xlabel('x3[1]',fontsize= 15)\n",
    "ax3[1].set_ylabel('y3',fontsize= 15)\n",
    "ax3[1].legend(loc='upper left')\n",
    "\n",
    "#ax3[2]/y3\n",
    "ax3[2].scatter(x3[:,2], y3, color = '#020100', linewidth = 5, label = 'Unormalized data')\n",
    "ax3[2].scatter(x3_norm[:,2], y3,linewidth = 5, color = 'green', label = 'Normalized data')\n",
    "ax3[2].set_title('X3[2]/Y3',fontsize= 9)\n",
    "ax3[2].set_xlabel('x3[2]',fontsize= 15)\n",
    "ax3[2].set_ylabel('y3',fontsize= 15)\n",
    "ax3[2].legend(loc='upper left',)\n",
    "\n",
    "plt.tight_layout()"
   ]
  },
  {
   "cell_type": "markdown",
   "id": "8f760c09",
   "metadata": {},
   "source": [
    "<p><b>7-2-1. Finding fitted Parameters</b>(<code>w</code>,<code>b</code>)</p>"
   ]
  },
  {
   "cell_type": "markdown",
   "id": "9685732e",
   "metadata": {},
   "source": [
    "<p>\n",
    "    <font size=\"3\"\n",
    "          color=\"red\">\n",
    "            <b>Without normalization</b>\n",
    "        </font>\n",
    "        </p>"
   ]
  },
  {
   "cell_type": "code",
   "execution_count": 23,
   "id": "184ed8fd",
   "metadata": {},
   "outputs": [
    {
     "name": "stdout",
     "output_type": "stream",
     "text": [
      "Iterations: 451306\n",
      "w3 = [2.30950451e-06 9.99999806e-01 2.00000414e+00]\n",
      "b3 = 4.99996179866597\n"
     ]
    }
   ],
   "source": [
    "w3_initial = [0,0,0]\n",
    "b3_initial = 0\n",
    "alpha = 1e-3\n",
    "epsilon = 1e-15\n",
    "\n",
    "w3,b3,j_history3,iters3 = gradient_descent(x3,y3,w3_initial,b3_initial,alpha,epsilon,dj_vec)\n",
    "print(f'w3 = {w3}\\nb3 = {b3}')"
   ]
  },
  {
   "cell_type": "markdown",
   "id": "642d14de",
   "metadata": {},
   "source": [
    "<p>\n",
    "    <font size=\"3\"\n",
    "          color=\"green\">\n",
    "            <b>With normalization</b>\n",
    "        </font>\n",
    "        </p>"
   ]
  },
  {
   "cell_type": "code",
   "execution_count": 24,
   "id": "7443701c",
   "metadata": {},
   "outputs": [
    {
     "name": "stdout",
     "output_type": "stream",
     "text": [
      "Iterations: 85925\n",
      "w3_norm = [-5.04685022e-06  1.87083072e+00  4.76969201e+00]\n",
      "b3_norm = 21.499999999998227\n"
     ]
    }
   ],
   "source": [
    "w3_norm_initial = [0,0,0]\n",
    "b3_norm_initial = 0\n",
    "alpha = 1e-3\n",
    "epsilon = 1e-15\n",
    "\n",
    "w3_norm,b3_norm,j_history3_norm,iters3_norm = gradient_descent(x3_norm,y3,w3_norm_initial,b3_norm_initial,alpha,epsilon,dj_vec)\n",
    "print(f'w3_norm = {w3_norm}\\nb3_norm = {b3_norm}')"
   ]
  },
  {
   "cell_type": "markdown",
   "id": "301f1605",
   "metadata": {},
   "source": [
    "<p><b>7-2-2. Ploting J(w,b)/iteration</b></p>\n",
    "<p>By plotting J(w,b)/iteration we can make sure that our gradiet descent function works correctly.</p>\n",
    "<p>[Should: <b>1</b>-decrease after every iteration. <b>2</b>-Converge to a constant number]</p>"
   ]
  },
  {
   "cell_type": "markdown",
   "id": "5a786f25",
   "metadata": {},
   "source": [
    "<p>\n",
    "    <font size=\"3\"\n",
    "          color=\"red\">\n",
    "            <b>Without normalization</b>\n",
    "        </font>\n",
    "        </p>"
   ]
  },
  {
   "cell_type": "code",
   "execution_count": 39,
   "id": "f11b0005",
   "metadata": {},
   "outputs": [
    {
     "data": {
      "image/png": "[encoded data removed]",
      "text/plain": [
       "<Figure size 432x288 with 1 Axes>"
      ]
     },
     "metadata": {
      "needs_background": "light"
     },
     "output_type": "display_data"
    }
   ],
   "source": [
    "plt.plot(iters3,j_history3,linewidth = 4, color = 'green')\n",
    "plt.xlabel('Iterations',fontsize= 18)\n",
    "plt.ylabel('J(w,b)',fontsize= 18)\n",
    "plt.show()"
   ]
  },
  {
   "cell_type": "markdown",
   "id": "5c0bce3f",
   "metadata": {},
   "source": [
    "<p>\n",
    "    <font size=\"3\"\n",
    "          color=\"green\">\n",
    "            <b>With normalization</b>\n",
    "        </font>\n",
    "        </p>"
   ]
  },
  {
   "cell_type": "code",
   "execution_count": 40,
   "id": "094ec725",
   "metadata": {},
   "outputs": [
    {
     "data": {
      "image/png": "[encoded data removed]",
      "text/plain": [
       "<Figure size 432x288 with 1 Axes>"
      ]
     },
     "metadata": {
      "needs_background": "light"
     },
     "output_type": "display_data"
    }
   ],
   "source": [
    "plt.plot(iters3_norm,j_history3_norm,linewidth = 4, color = 'green')\n",
    "plt.xlabel('Iterations',fontsize= 18)\n",
    "plt.ylabel('J(w,b)',fontsize= 18)\n",
    "plt.show()"
   ]
  },
  {
   "cell_type": "markdown",
   "id": "f1a1663e",
   "metadata": {},
   "source": [
    "<h2>8. Wraping all functions above up in <code>Scikit learn</code> library </h2>"
   ]
  },
  {
   "cell_type": "code",
   "execution_count": 27,
   "id": "3359ed43",
   "metadata": {},
   "outputs": [],
   "source": [
    "#Creat the scaler handle for StandardScaler\n",
    "scaler = StandardScaler()\n",
    "\n",
    "#Creat the sgdr handle for SGDRegressor\n",
    "sgdr = SGDRegressor(max_iter= 20000)"
   ]
  },
  {
   "cell_type": "code",
   "execution_count": 28,
   "id": "af55b672",
   "metadata": {},
   "outputs": [
    {
     "name": "stdout",
     "output_type": "stream",
     "text": [
      "Scikit learn = [ 0.50524673 -0.18372608 -0.8726989  -1.10235651  1.65353476]\n",
      "normilize(x1) = [ 0.50524673 -0.18372608 -0.8726989  -1.10235651  1.65353476]\n",
      "\n",
      "\n",
      "\n",
      "\n",
      "Scikitlearn =\n",
      " [[-1.0563286   0.53452248  1.15311332]\n",
      " [ 0.43495884  0.         -1.36277029]\n",
      " [ 1.42915046  1.06904497 -0.52414242]\n",
      " [-0.8077807  -1.60356745  0.73379939]]\n",
      "\n",
      "normilize(x3) =\n",
      " [[-1.0563286   0.53452248  1.15311332]\n",
      " [ 0.43495884  0.         -1.36277029]\n",
      " [ 1.42915046  1.06904497 -0.52414242]\n",
      " [-0.8077807  -1.60356745  0.73379939]]\n"
     ]
    }
   ],
   "source": [
    "#Fit-transform method first finds average and standard deviation and then does the normalization \n",
    "x1_norm_sk = scaler.fit_transform(x1.reshape(-1,1))\n",
    "x3_norm_sk = scaler.fit_transform(x3)\n",
    "\n",
    "print(f'Scikit learn = {x1_norm_sk.reshape(len(x1))}\\nnormilize(x1) = {normalize(x1)}')\n",
    "\n",
    "print(f'\\n\\n\\n\\nScikitlearn =\\n {x3_norm_sk}\\n\\nnormilize(x3) =\\n {normalize(x3)}')"
   ]
  },
  {
   "cell_type": "markdown",
   "id": "030f52dd",
   "metadata": {},
   "source": [
    "<code>X1</code>"
   ]
  },
  {
   "cell_type": "code",
   "execution_count": 29,
   "id": "dbc814a8",
   "metadata": {},
   "outputs": [
    {
     "name": "stdout",
     "output_type": "stream",
     "text": [
      "Scikitlearn: w1 = [0.49581373] , b1 = [0.03813091]\n",
      "Our gradient descent function: w1 = 0.4999990733110404 , b1 = 9.45278115434538e-06\n",
      "\n",
      "\n",
      "\n",
      "Scikitlearn: w1_norm = [2.01960413] , b1_norm = [3.61772278]\n",
      "Our gradient descent function: w1_norm = 2.177153016692543 , b1_norm = 3.8999980492151542\n"
     ]
    }
   ],
   "source": [
    "#Using fit method from SGDRegressor to train our model's parameters \n",
    "sgdr.fit(x1.reshape(-1,1),y1)\n",
    "\n",
    "#Fit parameters associated with the normalized input data\n",
    "w1_sk = sgdr.coef_\n",
    "b1_sk = sgdr.intercept_\n",
    "\n",
    "print(f'Scikitlearn: w1 = {w1_sk} , b1 = {b1_sk}\\nOur gradient descent function: w1 = {w1} , b1 = {b1}')\n",
    "\n",
    "\n",
    "\n",
    "#normalized\n",
    "sgdr.fit(x1_norm.reshape(-1,1),y1)\n",
    "\n",
    "#Fit parameters associated with the normalized input data\n",
    "w1_norm_sk = sgdr.coef_\n",
    "b1_norm_sk = sgdr.intercept_\n",
    "\n",
    "print(f'\\n\\n\\nScikitlearn: w1_norm = {w1_norm_sk} , b1_norm = {b1_norm_sk}\\nOur gradient descent function: w1_norm = {w1_norm} , b1_norm = {b1_norm}')"
   ]
  },
  {
   "cell_type": "markdown",
   "id": "da2bb4b9",
   "metadata": {},
   "source": [
    "<code>X3</code>"
   ]
  },
  {
   "cell_type": "code",
   "execution_count": 30,
   "id": "095c3801",
   "metadata": {},
   "outputs": [
    {
     "name": "stdout",
     "output_type": "stream",
     "text": [
      "Scikitlearn: w3 = [0.25945208 0.96383997 2.48922184] , b3 = [0.50233883]\n",
      "Our gradient descent function: w3 = [2.30950451e-06 9.99999806e-01 2.00000414e+00] , b3 = 4.99996179866597\n",
      "\n",
      "\n",
      "\n",
      "Scikitlearn: w3_norm = [-0.92169881  2.09622341  3.91824027] , b3_norm = [21.17540813]\n",
      "Our gradient descent function: w1_norm = [-5.04685022e-06  1.87083072e+00  4.76969201e+00] , b3_norm = 21.499999999998227\n"
     ]
    }
   ],
   "source": [
    "#Using fit method from SGDRegressor to train our model's parameters \n",
    "sgdr.fit(x3,y3)\n",
    "\n",
    "#Fit parameters associated with the normalized input data\n",
    "w3_sk = sgdr.coef_\n",
    "b3_sk = sgdr.intercept_\n",
    "\n",
    "print(f'Scikitlearn: w3 = {w3_sk} , b3 = {b3_sk}\\nOur gradient descent function: w3 = {w3} , b3 = {b3}')\n",
    "\n",
    "\n",
    "\n",
    "#normalized\n",
    "sgdr.fit(x3_norm,y3)\n",
    "\n",
    "#Fit parameters associated with the normalized input data\n",
    "w3_norm_sk = sgdr.coef_\n",
    "b3_norm_sk = sgdr.intercept_\n",
    "\n",
    "print(f'\\n\\n\\nScikitlearn: w3_norm = {w3_norm_sk} , b3_norm = {b3_norm_sk}\\nOur gradient descent function: w1_norm = {w3_norm} , b3_norm = {b3_norm}')"
   ]
  }
 ],
 "metadata": {
  "kernelspec": {
   "display_name": "Python 3 (ipykernel)",
   "language": "python",
   "name": "python3"
  },
  "language_info": {
   "codemirror_mode": {
    "name": "ipython",
    "version": 3
   },
   "file_extension": ".py",
   "mimetype": "text/x-python",
   "name": "python",
   "nbconvert_exporter": "python",
   "pygments_lexer": "ipython3",
   "version": "3.10.5"
  }
 },
 "nbformat": 4,
 "nbformat_minor": 5
}
